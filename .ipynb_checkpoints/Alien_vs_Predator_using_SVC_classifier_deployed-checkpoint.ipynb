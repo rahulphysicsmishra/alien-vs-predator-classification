{
 "cells": [
  {
   "cell_type": "code",
   "execution_count": 2,
   "id": "d3a100a5",
   "metadata": {},
   "outputs": [
    {
     "name": "stdout",
     "output_type": "stream",
     "text": [
      "time: 0 ns (started: 2021-04-20 10:43:27 +05:30)\n"
     ]
    }
   ],
   "source": [
    "%load_ext autotime"
   ]
  },
  {
   "cell_type": "code",
   "execution_count": 4,
   "id": "d9c7f668",
   "metadata": {},
   "outputs": [
    {
     "name": "stdout",
     "output_type": "stream",
     "text": [
      "time: 531 ms (started: 2021-04-20 10:43:27 +05:30)\n"
     ]
    }
   ],
   "source": [
    "# Importing necessary libraries\n",
    "import numpy as np\n",
    "import os\n",
    "import matplotlib.pyplot as plt\n",
    "from skimage.io import imread\n",
    "from skimage.transform import resize"
   ]
  },
  {
   "cell_type": "code",
   "execution_count": 5,
   "id": "f6b244fd",
   "metadata": {},
   "outputs": [
    {
     "name": "stdout",
     "output_type": "stream",
     "text": [
      "time: 15 s (started: 2021-04-20 10:43:28 +05:30)\n"
     ]
    }
   ],
   "source": [
    "target = [] # making labels\n",
    "images = [] # to store resized images\n",
    "flattened_data = [] # to store flat data\n",
    "test_images = [] # to store resized test images\n",
    "\n",
    "train_data_path = \"C:/Users/Rahul/ALIEN_vs_PREDATOR/data/train\"\n",
    "test_data_path = \"C:/Users/Rahul/ALIEN_vs_PREDATOR/data/validation\"\n",
    "categories = [\"alien\", \"predator\"]\n",
    "\n",
    "# for loop for train data\n",
    "for cat in categories:\n",
    "    category_label = categories.index(cat)\n",
    "    item_path = os.path.join(train_data_path, cat)\n",
    "    for img in os.listdir(item_path):\n",
    "        image_path = os.path.join(item_path, img)\n",
    "        image_array = imread(image_path)\n",
    "        #print(image_array.shape)\n",
    "        #plt.imshow(image_array)\n",
    "        #break\n",
    "        resized_image = resize(image_array, (150, 150, 3))\n",
    "        target.append(category_label)\n",
    "        images.append(resized_image)\n",
    "        flattened_data.append(resized_image.flatten())\n",
    "\n",
    "# for loop for test data\n",
    "for cat in categories:\n",
    "    test_item_path = os.path.join(test_data_path, cat)\n",
    "    for img in os.listdir(test_item_path):\n",
    "        test_image_path = os.path.join(test_item_path, img)\n",
    "        test_image_array = imread(test_image_path)\n",
    "        test_resized_image = resize(test_image_array, (150, 150, 3))\n",
    "        test_images.append(test_resized_image)\n",
    "        \n",
    "target = np.array(target)\n",
    "images = np.array(images)\n",
    "flattened_data = np.array(flattened_data)\n",
    "test_images = np.array(test_images)"
   ]
  },
  {
   "cell_type": "code",
   "execution_count": 6,
   "id": "d306c2a0",
   "metadata": {},
   "outputs": [
    {
     "data": {
      "text/plain": [
       "array([[[1., 1., 1.],\n",
       "        [1., 1., 1.],\n",
       "        [1., 1., 1.],\n",
       "        ...,\n",
       "        [1., 1., 1.],\n",
       "        [1., 1., 1.],\n",
       "        [1., 1., 1.]],\n",
       "\n",
       "       [[1., 1., 1.],\n",
       "        [1., 1., 1.],\n",
       "        [1., 1., 1.],\n",
       "        ...,\n",
       "        [1., 1., 1.],\n",
       "        [1., 1., 1.],\n",
       "        [1., 1., 1.]],\n",
       "\n",
       "       [[1., 1., 1.],\n",
       "        [1., 1., 1.],\n",
       "        [1., 1., 1.],\n",
       "        ...,\n",
       "        [1., 1., 1.],\n",
       "        [1., 1., 1.],\n",
       "        [1., 1., 1.]],\n",
       "\n",
       "       ...,\n",
       "\n",
       "       [[1., 1., 1.],\n",
       "        [1., 1., 1.],\n",
       "        [1., 1., 1.],\n",
       "        ...,\n",
       "        [1., 1., 1.],\n",
       "        [1., 1., 1.],\n",
       "        [1., 1., 1.]],\n",
       "\n",
       "       [[1., 1., 1.],\n",
       "        [1., 1., 1.],\n",
       "        [1., 1., 1.],\n",
       "        ...,\n",
       "        [1., 1., 1.],\n",
       "        [1., 1., 1.],\n",
       "        [1., 1., 1.]],\n",
       "\n",
       "       [[1., 1., 1.],\n",
       "        [1., 1., 1.],\n",
       "        [1., 1., 1.],\n",
       "        ...,\n",
       "        [1., 1., 1.],\n",
       "        [1., 1., 1.],\n",
       "        [1., 1., 1.]]])"
      ]
     },
     "execution_count": 6,
     "metadata": {},
     "output_type": "execute_result"
    },
    {
     "name": "stdout",
     "output_type": "stream",
     "text": [
      "time: 15 ms (started: 2021-04-20 10:43:43 +05:30)\n"
     ]
    }
   ],
   "source": [
    "# First image after preprocessing\n",
    "images[0]"
   ]
  },
  {
   "cell_type": "code",
   "execution_count": 7,
   "id": "18e9863f",
   "metadata": {},
   "outputs": [
    {
     "data": {
      "text/plain": [
       "(array([1., 1., 1., ..., 1., 1., 1.]), (67500,))"
      ]
     },
     "execution_count": 7,
     "metadata": {},
     "output_type": "execute_result"
    },
    {
     "name": "stdout",
     "output_type": "stream",
     "text": [
      "time: 16 ms (started: 2021-04-20 10:43:43 +05:30)\n"
     ]
    }
   ],
   "source": [
    "# Image after flattened\n",
    "flattened_data[0], flattened_data[0].shape"
   ]
  },
  {
   "cell_type": "code",
   "execution_count": 8,
   "id": "85af9efc",
   "metadata": {},
   "outputs": [
    {
     "data": {
      "text/plain": [
       "array([0, 0, 0, 0, 0, 0, 0, 0, 0, 0, 0, 0, 0, 0, 0, 0, 0, 0, 0, 0, 0, 0,\n",
       "       0, 0, 0, 0, 0, 0, 0, 0, 0, 0, 0, 0, 0, 0, 0, 0, 0, 0, 0, 0, 0, 0,\n",
       "       0, 0, 0, 0, 0, 0, 0, 0, 0, 0, 0, 0, 0, 0, 0, 0, 0, 0, 0, 0, 0, 0,\n",
       "       0, 0, 0, 0, 0, 0, 0, 0, 0, 0, 0, 0, 0, 0, 0, 0, 0, 0, 0, 0, 0, 0,\n",
       "       0, 0, 0, 0, 0, 0, 0, 0, 0, 0, 0, 0, 0, 0, 0, 0, 0, 0, 0, 0, 0, 0,\n",
       "       0, 0, 0, 0, 0, 0, 0, 0, 0, 0, 0, 0, 0, 0, 0, 0, 0, 0, 0, 0, 0, 0,\n",
       "       0, 0, 0, 0, 0, 0, 0, 0, 0, 0, 0, 0, 0, 0, 0, 0, 0, 0, 0, 0, 0, 0,\n",
       "       0, 0, 0, 0, 0, 0, 0, 0, 0, 0, 0, 0, 0, 0, 0, 0, 0, 0, 0, 0, 0, 0,\n",
       "       0, 0, 0, 0, 0, 0, 0, 0, 0, 0, 0, 0, 0, 0, 0, 0, 0, 0, 0, 0, 0, 0,\n",
       "       0, 0, 0, 0, 0, 0, 0, 0, 0, 0, 0, 0, 0, 0, 0, 0, 0, 0, 0, 0, 0, 0,\n",
       "       0, 0, 0, 0, 0, 0, 0, 0, 0, 0, 0, 0, 0, 0, 0, 0, 0, 0, 0, 0, 0, 0,\n",
       "       0, 0, 0, 0, 0, 0, 0, 0, 0, 0, 0, 0, 0, 0, 0, 0, 0, 0, 0, 0, 0, 0,\n",
       "       0, 0, 0, 0, 0, 0, 0, 0, 0, 0, 0, 0, 0, 0, 0, 0, 0, 0, 0, 0, 0, 0,\n",
       "       0, 0, 0, 0, 0, 0, 0, 0, 0, 0, 0, 0, 0, 0, 0, 0, 0, 0, 0, 0, 0, 0,\n",
       "       0, 0, 0, 0, 0, 0, 0, 0, 0, 0, 0, 0, 0, 0, 0, 0, 0, 0, 0, 0, 0, 0,\n",
       "       0, 0, 0, 0, 0, 0, 0, 0, 0, 0, 0, 0, 0, 0, 0, 0, 0, 1, 1, 1, 1, 1,\n",
       "       1, 1, 1, 1, 1, 1, 1, 1, 1, 1, 1, 1, 1, 1, 1, 1, 1, 1, 1, 1, 1, 1,\n",
       "       1, 1, 1, 1, 1, 1, 1, 1, 1, 1, 1, 1, 1, 1, 1, 1, 1, 1, 1, 1, 1, 1,\n",
       "       1, 1, 1, 1, 1, 1, 1, 1, 1, 1, 1, 1, 1, 1, 1, 1, 1, 1, 1, 1, 1, 1,\n",
       "       1, 1, 1, 1, 1, 1, 1, 1, 1, 1, 1, 1, 1, 1, 1, 1, 1, 1, 1, 1, 1, 1,\n",
       "       1, 1, 1, 1, 1, 1, 1, 1, 1, 1, 1, 1, 1, 1, 1, 1, 1, 1, 1, 1, 1, 1,\n",
       "       1, 1, 1, 1, 1, 1, 1, 1, 1, 1, 1, 1, 1, 1, 1, 1, 1, 1, 1, 1, 1, 1,\n",
       "       1, 1, 1, 1, 1, 1, 1, 1, 1, 1, 1, 1, 1, 1, 1, 1, 1, 1, 1, 1, 1, 1,\n",
       "       1, 1, 1, 1, 1, 1, 1, 1, 1, 1, 1, 1, 1, 1, 1, 1, 1, 1, 1, 1, 1, 1,\n",
       "       1, 1, 1, 1, 1, 1, 1, 1, 1, 1, 1, 1, 1, 1, 1, 1, 1, 1, 1, 1, 1, 1,\n",
       "       1, 1, 1, 1, 1, 1, 1, 1, 1, 1, 1, 1, 1, 1, 1, 1, 1, 1, 1, 1, 1, 1,\n",
       "       1, 1, 1, 1, 1, 1, 1, 1, 1, 1, 1, 1, 1, 1, 1, 1, 1, 1, 1, 1, 1, 1,\n",
       "       1, 1, 1, 1, 1, 1, 1, 1, 1, 1, 1, 1, 1, 1, 1, 1, 1, 1, 1, 1, 1, 1,\n",
       "       1, 1, 1, 1, 1, 1, 1, 1, 1, 1, 1, 1, 1, 1, 1, 1, 1, 1, 1, 1, 1, 1,\n",
       "       1, 1, 1, 1, 1, 1, 1, 1, 1, 1, 1, 1, 1, 1, 1, 1, 1, 1, 1, 1, 1, 1,\n",
       "       1, 1, 1, 1, 1, 1, 1, 1, 1, 1, 1, 1, 1, 1, 1, 1, 1, 1, 1, 1, 1, 1,\n",
       "       1, 1, 1, 1, 1, 1, 1, 1, 1, 1, 1, 1])"
      ]
     },
     "execution_count": 8,
     "metadata": {},
     "output_type": "execute_result"
    },
    {
     "name": "stdout",
     "output_type": "stream",
     "text": [
      "time: 15 ms (started: 2021-04-20 10:43:43 +05:30)\n"
     ]
    }
   ],
   "source": [
    "# Numeric output after label\n",
    "target"
   ]
  },
  {
   "cell_type": "code",
   "execution_count": 9,
   "id": "5f2bfec0",
   "metadata": {},
   "outputs": [
    {
     "name": "stdout",
     "output_type": "stream",
     "text": [
      "time: 0 ns (started: 2021-04-20 10:43:43 +05:30)\n"
     ]
    }
   ],
   "source": [
    "unique_target, count = np.unique(target, return_counts=True)"
   ]
  },
  {
   "cell_type": "code",
   "execution_count": 10,
   "id": "674c7bff",
   "metadata": {},
   "outputs": [
    {
     "data": {
      "text/plain": [
       "<BarContainer object of 2 artists>"
      ]
     },
     "execution_count": 10,
     "metadata": {},
     "output_type": "execute_result"
    },
    {
     "data": {
      "image/png": "[encoded data removed]",
      "text/plain": [
       "<Figure size 432x288 with 1 Axes>"
      ]
     },
     "metadata": {
      "needs_background": "light"
     },
     "output_type": "display_data"
    },
    {
     "name": "stdout",
     "output_type": "stream",
     "text": [
      "time: 109 ms (started: 2021-04-20 10:43:43 +05:30)\n"
     ]
    }
   ],
   "source": [
    "# Plotting categories count wise\n",
    "plt.bar(categories, count)"
   ]
  },
  {
   "cell_type": "code",
   "execution_count": 11,
   "id": "5ef67e99",
   "metadata": {},
   "outputs": [
    {
     "data": {
      "text/plain": [
       "<matplotlib.image.AxesImage at 0x22016e3cc70>"
      ]
     },
     "execution_count": 11,
     "metadata": {},
     "output_type": "execute_result"
    },
    {
     "data": {
      "image/png": "[encoded data removed]",
      "text/plain": [
       "<Figure size 432x288 with 1 Axes>"
      ]
     },
     "metadata": {
      "needs_background": "light"
     },
     "output_type": "display_data"
    },
    {
     "name": "stdout",
     "output_type": "stream",
     "text": [
      "time: 125 ms (started: 2021-04-20 10:43:43 +05:30)\n"
     ]
    }
   ],
   "source": [
    "plt.imshow(images[0], cmap=\"binary\")"
   ]
  },
  {
   "cell_type": "code",
   "execution_count": 12,
   "id": "6f9f1d80",
   "metadata": {},
   "outputs": [
    {
     "data": {
      "text/plain": [
       "((694, 150, 150, 3), (694,))"
      ]
     },
     "execution_count": 12,
     "metadata": {},
     "output_type": "execute_result"
    },
    {
     "name": "stdout",
     "output_type": "stream",
     "text": [
      "time: 0 ns (started: 2021-04-20 10:43:43 +05:30)\n"
     ]
    }
   ],
   "source": [
    "images.shape, target.shape"
   ]
  },
  {
   "cell_type": "code",
   "execution_count": 31,
   "id": "9618fbc5",
   "metadata": {},
   "outputs": [
    {
     "name": "stdout",
     "output_type": "stream",
     "text": [
      "time: 125 ms (started: 2021-04-20 10:58:18 +05:30)\n"
     ]
    }
   ],
   "source": [
    "from sklearn.model_selection import train_test_split\n",
    "X_train, X_test, Y_train, Y_test = train_test_split(flattened_data, target, test_size=0.2, random_state=42)"
   ]
  },
  {
   "cell_type": "code",
   "execution_count": 32,
   "id": "29b1f9fb",
   "metadata": {},
   "outputs": [
    {
     "data": {
      "text/plain": [
       "SVC(C=0.3)"
      ]
     },
     "execution_count": 32,
     "metadata": {},
     "output_type": "execute_result"
    },
    {
     "name": "stdout",
     "output_type": "stream",
     "text": [
      "time: 11.2 s (started: 2021-04-20 10:58:18 +05:30)\n"
     ]
    }
   ],
   "source": [
    "from sklearn import svm\n",
    "\n",
    "svc = svm.SVC(C=0.3, kernel='rbf')\n",
    "svc.fit(X_train, Y_train)"
   ]
  },
  {
   "cell_type": "code",
   "execution_count": 33,
   "id": "9a8855c1",
   "metadata": {},
   "outputs": [
    {
     "name": "stdout",
     "output_type": "stream",
     "text": [
      "time: 7.61 s (started: 2021-04-20 10:58:30 +05:30)\n"
     ]
    }
   ],
   "source": [
    "svc_pred = svc.predict(X_test)"
   ]
  },
  {
   "cell_type": "code",
   "execution_count": 34,
   "id": "1cc9faa8",
   "metadata": {},
   "outputs": [
    {
     "data": {
      "text/plain": [
       "0.7243243243243244"
      ]
     },
     "execution_count": 34,
     "metadata": {},
     "output_type": "execute_result"
    },
    {
     "name": "stdout",
     "output_type": "stream",
     "text": [
      "time: 30 s (started: 2021-04-20 10:58:37 +05:30)\n"
     ]
    }
   ],
   "source": [
    "svc.score(X_train, Y_train)\n",
    "# It is underfitting\n",
    "# With C=0.3 and kernel='rbf', score is 72.4%"
   ]
  },
  {
   "cell_type": "code",
   "execution_count": 35,
   "id": "90ab3535",
   "metadata": {},
   "outputs": [
    {
     "data": {
      "text/plain": [
       "0.6762589928057554"
      ]
     },
     "execution_count": 35,
     "metadata": {},
     "output_type": "execute_result"
    },
    {
     "name": "stdout",
     "output_type": "stream",
     "text": [
      "time: 7.69 s (started: 2021-04-20 10:59:07 +05:30)\n"
     ]
    }
   ],
   "source": [
    "svc.score(X_test, Y_test)\n",
    "# with C=1, it was overfitting, after reducing C=0.3, it is fine but underfitting."
   ]
  },
  {
   "cell_type": "code",
   "execution_count": 35,
   "id": "cafa96bb",
   "metadata": {},
   "outputs": [
    {
     "data": {
      "text/plain": [
       "LogisticRegression(max_iter=700)"
      ]
     },
     "execution_count": 35,
     "metadata": {},
     "output_type": "execute_result"
    },
    {
     "name": "stdout",
     "output_type": "stream",
     "text": [
      "time: 18.7 s (started: 2021-04-16 15:49:10 +05:30)\n"
     ]
    }
   ],
   "source": [
    "from sklearn.linear_model import LogisticRegression\n",
    "log_reg = LogisticRegression(max_iter=700)\n",
    "log_reg.fit(X_train, Y_train)"
   ]
  },
  {
   "cell_type": "code",
   "execution_count": 36,
   "id": "526fbde5",
   "metadata": {},
   "outputs": [
    {
     "data": {
      "text/plain": [
       "1.0"
      ]
     },
     "execution_count": 36,
     "metadata": {},
     "output_type": "execute_result"
    },
    {
     "name": "stdout",
     "output_type": "stream",
     "text": [
      "time: 63 ms (started: 2021-04-16 15:50:24 +05:30)\n"
     ]
    }
   ],
   "source": [
    "log_reg.score(X_train, Y_train)\n",
    "# Clearly overfitting"
   ]
  },
  {
   "cell_type": "code",
   "execution_count": 37,
   "id": "a70282ee",
   "metadata": {},
   "outputs": [
    {
     "data": {
      "text/plain": [
       "0.6402877697841727"
      ]
     },
     "execution_count": 37,
     "metadata": {},
     "output_type": "execute_result"
    },
    {
     "name": "stdout",
     "output_type": "stream",
     "text": [
      "time: 15 ms (started: 2021-04-16 15:50:44 +05:30)\n"
     ]
    }
   ],
   "source": [
    "log_reg.score(X_test, Y_test)\n",
    "# Score is not better than svc score"
   ]
  },
  {
   "cell_type": "code",
   "execution_count": 14,
   "id": "46733b60",
   "metadata": {},
   "outputs": [
    {
     "data": {
      "text/plain": [
       "SGDClassifier(random_state=42)"
      ]
     },
     "execution_count": 14,
     "metadata": {},
     "output_type": "execute_result"
    },
    {
     "name": "stdout",
     "output_type": "stream",
     "text": [
      "time: 2.78 s (started: 2021-04-20 10:43:49 +05:30)\n"
     ]
    }
   ],
   "source": [
    "# Let's try SGDclassifier\n",
    "from sklearn.linear_model import SGDClassifier\n",
    "\n",
    "sgd = SGDClassifier(random_state=42)\n",
    "sgd.fit(X_train, Y_train)"
   ]
  },
  {
   "cell_type": "code",
   "execution_count": 15,
   "id": "8dc2f855",
   "metadata": {},
   "outputs": [
    {
     "data": {
      "text/plain": [
       "0.9927927927927928"
      ]
     },
     "execution_count": 15,
     "metadata": {},
     "output_type": "execute_result"
    },
    {
     "name": "stdout",
     "output_type": "stream",
     "text": [
      "time: 78 ms (started: 2021-04-20 10:44:20 +05:30)\n"
     ]
    }
   ],
   "source": [
    "sgd.score(X_train, Y_train)\n",
    "# It is also overfitting"
   ]
  },
  {
   "cell_type": "code",
   "execution_count": 16,
   "id": "3421a874",
   "metadata": {},
   "outputs": [
    {
     "data": {
      "text/plain": [
       "0.6834532374100719"
      ]
     },
     "execution_count": 16,
     "metadata": {},
     "output_type": "execute_result"
    },
    {
     "name": "stdout",
     "output_type": "stream",
     "text": [
      "time: 16 ms (started: 2021-04-20 10:44:33 +05:30)\n"
     ]
    }
   ],
   "source": [
    "sgd.score(X_test, Y_test) # test score is slightly better than svc classifier"
   ]
  },
  {
   "cell_type": "code",
   "execution_count": 17,
   "id": "cc3399b0",
   "metadata": {},
   "outputs": [
    {
     "data": {
      "text/plain": [
       "Pipeline(steps=[('standardscaler', StandardScaler()),\n",
       "                ('sgdclassifier', SGDClassifier(random_state=42))])"
      ]
     },
     "execution_count": 17,
     "metadata": {},
     "output_type": "execute_result"
    },
    {
     "name": "stdout",
     "output_type": "stream",
     "text": [
      "time: 2.72 s (started: 2021-04-20 10:49:34 +05:30)\n"
     ]
    }
   ],
   "source": [
    "# Let's try rescaling the input and then train a new model of SGDclassifier\n",
    "from sklearn.preprocessing import StandardScaler\n",
    "from sklearn.pipeline import make_pipeline\n",
    "\n",
    "pipe_clf = make_pipeline(\n",
    "StandardScaler(), SGDClassifier(random_state=42))\n",
    "\n",
    "pipe_clf.fit(X_train, Y_train)"
   ]
  },
  {
   "cell_type": "code",
   "execution_count": 18,
   "id": "38aaaa79",
   "metadata": {},
   "outputs": [
    {
     "data": {
      "text/plain": [
       "0.9963963963963964"
      ]
     },
     "execution_count": 18,
     "metadata": {},
     "output_type": "execute_result"
    },
    {
     "name": "stdout",
     "output_type": "stream",
     "text": [
      "time: 265 ms (started: 2021-04-20 10:50:04 +05:30)\n"
     ]
    }
   ],
   "source": [
    "pipe_clf.score(X_train, Y_train) # same overfitting problem"
   ]
  },
  {
   "cell_type": "code",
   "execution_count": 19,
   "id": "86bbd926",
   "metadata": {},
   "outputs": [
    {
     "data": {
      "text/plain": [
       "0.6546762589928058"
      ]
     },
     "execution_count": 19,
     "metadata": {},
     "output_type": "execute_result"
    },
    {
     "name": "stdout",
     "output_type": "stream",
     "text": [
      "time: 63 ms (started: 2021-04-20 10:50:26 +05:30)\n"
     ]
    }
   ],
   "source": [
    "pipe_clf.score(X_test, Y_test) # Test score is also not good"
   ]
  },
  {
   "cell_type": "code",
   "execution_count": 36,
   "id": "abe26705",
   "metadata": {},
   "outputs": [
    {
     "name": "stdout",
     "output_type": "stream",
     "text": [
      "time: 453 ms (started: 2021-04-20 11:00:05 +05:30)\n"
     ]
    }
   ],
   "source": [
    "# saving the svc model\n",
    "import pickle\n",
    "\n",
    "pickle.dump(svc, open('image_model.p', 'wb'))"
   ]
  },
  {
   "cell_type": "code",
   "execution_count": 37,
   "id": "456fa524",
   "metadata": {},
   "outputs": [
    {
     "name": "stdout",
     "output_type": "stream",
     "text": [
      "time: 93 ms (started: 2021-04-20 11:01:20 +05:30)\n"
     ]
    }
   ],
   "source": [
    "model = pickle.load(open('image_model.p', 'rb'))"
   ]
  },
  {
   "cell_type": "code",
   "execution_count": 41,
   "id": "6c9bf8fe",
   "metadata": {},
   "outputs": [
    {
     "data": {
      "text/plain": [
       "array([0.04313725, 0.05490196, 0.09019608, ..., 0.11601307, 0.19215686,\n",
       "       0.31993464])"
      ]
     },
     "execution_count": 41,
     "metadata": {},
     "output_type": "execute_result"
    },
    {
     "name": "stdout",
     "output_type": "stream",
     "text": [
      "time: 93 ms (started: 2021-04-20 11:13:30 +05:30)\n"
     ]
    }
   ],
   "source": [
    "# Testing a new image\n",
    "test_images_data = []\n",
    "for img in test_images:\n",
    "    test_images_data.append(img.flatten())\n",
    "\n",
    "test_images_data = np.array(test_images_data)\n",
    "test_images_data[0]"
   ]
  },
  {
   "cell_type": "code",
   "execution_count": 56,
   "id": "d5ff7254",
   "metadata": {},
   "outputs": [
    {
     "name": "stdout",
     "output_type": "stream",
     "text": [
      "time: 78 ms (started: 2021-04-20 11:25:41 +05:30)\n"
     ]
    }
   ],
   "source": [
    "predicted_image = model.predict([test_images_data[0]])"
   ]
  },
  {
   "cell_type": "code",
   "execution_count": 57,
   "id": "58787b7a",
   "metadata": {},
   "outputs": [
    {
     "data": {
      "text/plain": [
       "array([0])"
      ]
     },
     "execution_count": 57,
     "metadata": {},
     "output_type": "execute_result"
    },
    {
     "name": "stdout",
     "output_type": "stream",
     "text": [
      "time: 15 ms (started: 2021-04-20 11:25:43 +05:30)\n"
     ]
    }
   ],
   "source": [
    "predicted_image # means alien"
   ]
  },
  {
   "cell_type": "code",
   "execution_count": 70,
   "id": "978d2b95",
   "metadata": {},
   "outputs": [
    {
     "name": "stdout",
     "output_type": "stream",
     "text": [
      "predicted output: alien\n",
      "time: 0 ns (started: 2021-04-20 11:52:19 +05:30)\n"
     ]
    }
   ],
   "source": [
    "predicted_image = categories[predicted_image[0]]\n",
    "print(f'predicted output: {predicted_image}')"
   ]
  },
  {
   "cell_type": "code",
   "execution_count": 71,
   "id": "fd8fd013",
   "metadata": {},
   "outputs": [
    {
     "data": {
      "text/plain": [
       "array([0, 1, 0, 0, 1, 0, 1, 1, 1, 0, 0, 1, 1, 0, 0, 0, 0, 0, 1, 0, 0, 0,\n",
       "       1, 1, 0, 1, 1, 0, 0, 0, 0, 0, 0, 1, 0, 0, 0, 1, 0, 0, 1, 0, 0, 1,\n",
       "       1, 1, 0, 0, 0, 0, 0, 1, 0, 1, 1, 0, 0, 0, 1, 0, 0, 1, 0, 0, 1, 0,\n",
       "       0, 0, 1, 1, 1, 0, 0, 1, 1, 0, 0, 1, 1, 1, 0, 1, 0, 0, 0, 0, 1, 0,\n",
       "       1, 1, 1, 0, 0, 1, 0, 0, 0, 0, 1, 0, 1, 1, 1, 1, 1, 1, 1, 1, 1, 1,\n",
       "       1, 1, 1, 1, 0, 1, 1, 1, 1, 0, 1, 0, 0, 1, 1, 1, 1, 1, 0, 1, 1, 0,\n",
       "       0, 0, 1, 1, 1, 1, 0, 1, 1, 1, 1, 0, 1, 1, 1, 1, 1, 1, 1, 1, 1, 1,\n",
       "       1, 1, 1, 1, 1, 1, 1, 1, 0, 1, 0, 1, 1, 1, 1, 1, 1, 1, 0, 1, 0, 1,\n",
       "       1, 0, 0, 1, 1, 1, 0, 1, 1, 0, 1, 1, 1, 1, 0, 1, 1, 1, 1, 1, 0, 1,\n",
       "       1, 1])"
      ]
     },
     "execution_count": 71,
     "metadata": {},
     "output_type": "execute_result"
    },
    {
     "name": "stdout",
     "output_type": "stream",
     "text": [
      "time: 9.08 s (started: 2021-04-20 11:52:46 +05:30)\n"
     ]
    }
   ],
   "source": [
    "predicted_image_all = model.predict(test_images_data)\n",
    "predicted_image_all"
   ]
  },
  {
   "cell_type": "code",
   "execution_count": 73,
   "id": "902187a0",
   "metadata": {},
   "outputs": [
    {
     "name": "stdout",
     "output_type": "stream",
     "text": [
      "predicted output: alien\n",
      "predicted output: predator\n",
      "predicted output: alien\n",
      "predicted output: alien\n",
      "predicted output: predator\n",
      "predicted output: alien\n",
      "predicted output: predator\n",
      "predicted output: predator\n",
      "predicted output: predator\n",
      "predicted output: alien\n",
      "predicted output: alien\n",
      "predicted output: predator\n",
      "predicted output: predator\n",
      "predicted output: alien\n",
      "predicted output: alien\n",
      "predicted output: alien\n",
      "predicted output: alien\n",
      "predicted output: alien\n",
      "predicted output: predator\n",
      "predicted output: alien\n",
      "predicted output: alien\n",
      "predicted output: alien\n",
      "predicted output: predator\n",
      "predicted output: predator\n",
      "predicted output: alien\n",
      "predicted output: predator\n",
      "predicted output: predator\n",
      "predicted output: alien\n",
      "predicted output: alien\n",
      "predicted output: alien\n",
      "predicted output: alien\n",
      "predicted output: alien\n",
      "predicted output: alien\n",
      "predicted output: predator\n",
      "predicted output: alien\n",
      "predicted output: alien\n",
      "predicted output: alien\n",
      "predicted output: predator\n",
      "predicted output: alien\n",
      "predicted output: alien\n",
      "predicted output: predator\n",
      "predicted output: alien\n",
      "predicted output: alien\n",
      "predicted output: predator\n",
      "predicted output: predator\n",
      "predicted output: predator\n",
      "predicted output: alien\n",
      "predicted output: alien\n",
      "predicted output: alien\n",
      "predicted output: alien\n",
      "predicted output: alien\n",
      "predicted output: predator\n",
      "predicted output: alien\n",
      "predicted output: predator\n",
      "predicted output: predator\n",
      "predicted output: alien\n",
      "predicted output: alien\n",
      "predicted output: alien\n",
      "predicted output: predator\n",
      "predicted output: alien\n",
      "predicted output: alien\n",
      "predicted output: predator\n",
      "predicted output: alien\n",
      "predicted output: alien\n",
      "predicted output: predator\n",
      "predicted output: alien\n",
      "predicted output: alien\n",
      "predicted output: alien\n",
      "predicted output: predator\n",
      "predicted output: predator\n",
      "predicted output: predator\n",
      "predicted output: alien\n",
      "predicted output: alien\n",
      "predicted output: predator\n",
      "predicted output: predator\n",
      "predicted output: alien\n",
      "predicted output: alien\n",
      "predicted output: predator\n",
      "predicted output: predator\n",
      "predicted output: predator\n",
      "predicted output: alien\n",
      "predicted output: predator\n",
      "predicted output: alien\n",
      "predicted output: alien\n",
      "predicted output: alien\n",
      "predicted output: alien\n",
      "predicted output: predator\n",
      "predicted output: alien\n",
      "predicted output: predator\n",
      "predicted output: predator\n",
      "predicted output: predator\n",
      "predicted output: alien\n",
      "predicted output: alien\n",
      "predicted output: predator\n",
      "predicted output: alien\n",
      "predicted output: alien\n",
      "predicted output: alien\n",
      "predicted output: alien\n",
      "predicted output: predator\n",
      "predicted output: alien\n",
      "predicted output: predator\n",
      "predicted output: predator\n",
      "predicted output: predator\n",
      "predicted output: predator\n",
      "predicted output: predator\n",
      "predicted output: predator\n",
      "predicted output: predator\n",
      "predicted output: predator\n",
      "predicted output: predator\n",
      "predicted output: predator\n",
      "predicted output: predator\n",
      "predicted output: predator\n",
      "predicted output: predator\n",
      "predicted output: predator\n",
      "predicted output: alien\n",
      "predicted output: predator\n",
      "predicted output: predator\n",
      "predicted output: predator\n",
      "predicted output: predator\n",
      "predicted output: alien\n",
      "predicted output: predator\n",
      "predicted output: alien\n",
      "predicted output: alien\n",
      "predicted output: predator\n",
      "predicted output: predator\n",
      "predicted output: predator\n",
      "predicted output: predator\n",
      "predicted output: predator\n",
      "predicted output: alien\n",
      "predicted output: predator\n",
      "predicted output: predator\n",
      "predicted output: alien\n",
      "predicted output: alien\n",
      "predicted output: alien\n",
      "predicted output: predator\n",
      "predicted output: predator\n",
      "predicted output: predator\n",
      "predicted output: predator\n",
      "predicted output: alien\n",
      "predicted output: predator\n",
      "predicted output: predator\n",
      "predicted output: predator\n",
      "predicted output: predator\n",
      "predicted output: alien\n",
      "predicted output: predator\n",
      "predicted output: predator\n",
      "predicted output: predator\n",
      "predicted output: predator\n",
      "predicted output: predator\n",
      "predicted output: predator\n",
      "predicted output: predator\n",
      "predicted output: predator\n",
      "predicted output: predator\n",
      "predicted output: predator\n",
      "predicted output: predator\n",
      "predicted output: predator\n",
      "predicted output: predator\n",
      "predicted output: predator\n",
      "predicted output: predator\n",
      "predicted output: predator\n",
      "predicted output: predator\n",
      "predicted output: predator\n",
      "predicted output: alien\n",
      "predicted output: predator\n",
      "predicted output: alien\n",
      "predicted output: predator\n",
      "predicted output: predator\n",
      "predicted output: predator\n",
      "predicted output: predator\n",
      "predicted output: predator\n",
      "predicted output: predator\n",
      "predicted output: predator\n",
      "predicted output: alien\n",
      "predicted output: predator\n",
      "predicted output: alien\n",
      "predicted output: predator\n",
      "predicted output: predator\n",
      "predicted output: alien\n",
      "predicted output: alien\n",
      "predicted output: predator\n",
      "predicted output: predator\n",
      "predicted output: predator\n",
      "predicted output: alien\n",
      "predicted output: predator\n",
      "predicted output: predator\n",
      "predicted output: alien\n",
      "predicted output: predator\n",
      "predicted output: predator\n",
      "predicted output: predator\n",
      "predicted output: predator\n",
      "predicted output: alien\n",
      "predicted output: predator\n",
      "predicted output: predator\n",
      "predicted output: predator\n",
      "predicted output: predator\n",
      "predicted output: predator\n",
      "predicted output: alien\n",
      "predicted output: predator\n",
      "predicted output: predator\n",
      "predicted output: predator\n",
      "time: 31 ms (started: 2021-04-20 11:54:00 +05:30)\n"
     ]
    }
   ],
   "source": [
    "# predicted output by categories\n",
    "for i in predicted_image_all:\n",
    "    predict = categories[i]\n",
    "    print(f\"predicted output: {predict}\")"
   ]
  },
  {
   "cell_type": "markdown",
   "id": "06642ee9",
   "metadata": {},
   "source": [
    "# Deployment using Streamlit and pyngrok"
   ]
  },
  {
   "cell_type": "code",
   "execution_count": 94,
   "id": "15bcde09",
   "metadata": {},
   "outputs": [
    {
     "name": "stdout",
     "output_type": "stream",
     "text": [
      "Requirement already satisfied: streamlit in c:\\users\\rahul\\alien_vs_predator\\alien\\lib\\site-packages (0.70.0)\n",
      "Requirement already satisfied: base58 in c:\\users\\rahul\\alien_vs_predator\\alien\\lib\\site-packages (from streamlit) (2.1.0)\n",
      "Requirement already satisfied: watchdog in c:\\users\\rahul\\alien_vs_predator\\alien\\lib\\site-packages (from streamlit) (2.0.2)\n",
      "Requirement already satisfied: altair>=3.2.0 in c:\\users\\rahul\\alien_vs_predator\\alien\\lib\\site-packages (from streamlit) (4.1.0)\n",
      "Requirement already satisfied: astor in c:\\users\\rahul\\alien_vs_predator\\alien\\lib\\site-packages (from streamlit) (0.8.1)\n",
      "Requirement already satisfied: pandas>=0.21.0 in c:\\users\\rahul\\alien_vs_predator\\alien\\lib\\site-packages (from streamlit) (1.2.4)\n",
      "Requirement already satisfied: validators in c:\\users\\rahul\\alien_vs_predator\\alien\\lib\\site-packages (from streamlit) (0.18.2)\n",
      "Requirement already satisfied: cachetools>=4.0 in c:\\users\\rahul\\alien_vs_predator\\alien\\lib\\site-packages (from streamlit) (4.2.1)\n",
      "Requirement already satisfied: python-dateutil in c:\\users\\rahul\\alien_vs_predator\\alien\\lib\\site-packages (from streamlit) (2.8.1)\n",
      "Requirement already satisfied: boto3 in c:\\users\\rahul\\alien_vs_predator\\alien\\lib\\site-packages (from streamlit) (1.17.54)\n",
      "Requirement already satisfied: tzlocal in c:\\users\\rahul\\alien_vs_predator\\alien\\lib\\site-packages (from streamlit) (2.1)\n",
      "Requirement already satisfied: blinker in c:\\users\\rahul\\alien_vs_predator\\alien\\lib\\site-packages (from streamlit) (1.4)\n",
      "Requirement already satisfied: pydeck>=0.1.dev5 in c:\\users\\rahul\\alien_vs_predator\\alien\\lib\\site-packages (from streamlit) (0.6.2)\n",
      "Requirement already satisfied: tornado>=5.0 in c:\\users\\rahul\\alien_vs_predator\\alien\\lib\\site-packages (from streamlit) (6.1)\n",
      "Requirement already satisfied: pyarrow in c:\\users\\rahul\\alien_vs_predator\\alien\\lib\\site-packages (from streamlit) (3.0.0)\n",
      "Requirement already satisfied: botocore>=1.13.44 in c:\\users\\rahul\\alien_vs_predator\\alien\\lib\\site-packages (from streamlit) (1.20.54)\n",
      "Requirement already satisfied: toml in c:\\users\\rahul\\alien_vs_predator\\alien\\lib\\site-packages (from streamlit) (0.10.2)\n",
      "Requirement already satisfied: numpy in c:\\users\\rahul\\alien_vs_predator\\alien\\lib\\site-packages (from streamlit) (1.19.5)\n",
      "Requirement already satisfied: requests in c:\\users\\rahul\\alien_vs_predator\\alien\\lib\\site-packages (from streamlit) (2.25.1)\n",
      "Requirement already satisfied: enum-compat in c:\\users\\rahul\\alien_vs_predator\\alien\\lib\\site-packages (from streamlit) (0.0.3)\n",
      "Requirement already satisfied: gitpython in c:\\users\\rahul\\alien_vs_predator\\alien\\lib\\site-packages (from streamlit) (3.1.14)\n",
      "Requirement already satisfied: packaging in c:\\users\\rahul\\alien_vs_predator\\alien\\lib\\site-packages (from streamlit) (20.9)\n",
      "Requirement already satisfied: protobuf>=3.6.0 in c:\\users\\rahul\\alien_vs_predator\\alien\\lib\\site-packages (from streamlit) (3.15.8)\n",
      "Requirement already satisfied: pillow>=6.2.0 in c:\\users\\rahul\\alien_vs_predator\\alien\\lib\\site-packages (from streamlit) (8.2.0)\n",
      "Requirement already satisfied: click>=7.0 in c:\\users\\rahul\\alien_vs_predator\\alien\\lib\\site-packages (from streamlit) (7.1.2)\n",
      "Requirement already satisfied: entrypoints in c:\\users\\rahul\\alien_vs_predator\\alien\\lib\\site-packages (from altair>=3.2.0->streamlit) (0.3)\n",
      "Requirement already satisfied: jsonschema in c:\\users\\rahul\\alien_vs_predator\\alien\\lib\\site-packages (from altair>=3.2.0->streamlit) (3.2.0)\n",
      "Requirement already satisfied: toolz in c:\\users\\rahul\\alien_vs_predator\\alien\\lib\\site-packages (from altair>=3.2.0->streamlit) (0.11.1)\n",
      "Requirement already satisfied: jinja2 in c:\\users\\rahul\\alien_vs_predator\\alien\\lib\\site-packages (from altair>=3.2.0->streamlit) (2.11.3)\n",
      "Requirement already satisfied: urllib3<1.27,>=1.25.4 in c:\\users\\rahul\\alien_vs_predator\\alien\\lib\\site-packages (from botocore>=1.13.44->streamlit) (1.26.4)\n",
      "Requirement already satisfied: jmespath<1.0.0,>=0.7.1 in c:\\users\\rahul\\alien_vs_predator\\alien\\lib\\site-packages (from botocore>=1.13.44->streamlit) (0.10.0)\n",
      "Requirement already satisfied: pytz>=2017.3 in c:\\users\\rahul\\alien_vs_predator\\alien\\lib\\site-packages (from pandas>=0.21.0->streamlit) (2021.1)\n",
      "Requirement already satisfied: six>=1.9 in c:\\users\\rahul\\alien_vs_predator\\alien\\lib\\site-packages (from protobuf>=3.6.0->streamlit) (1.15.0)\n",
      "Requirement already satisfied: ipywidgets>=7.0.0 in c:\\users\\rahul\\alien_vs_predator\\alien\\lib\\site-packages (from pydeck>=0.1.dev5->streamlit) (7.6.3)\n",
      "Requirement already satisfied: ipykernel>=5.1.2 in c:\\users\\rahul\\alien_vs_predator\\alien\\lib\\site-packages (from pydeck>=0.1.dev5->streamlit) (5.5.3)\n",
      "Requirement already satisfied: traitlets>=4.3.2 in c:\\users\\rahul\\alien_vs_predator\\alien\\lib\\site-packages (from pydeck>=0.1.dev5->streamlit) (5.0.5)\n",
      "Requirement already satisfied: ipython>=5.0.0 in c:\\users\\rahul\\alien_vs_predator\\alien\\lib\\site-packages (from ipykernel>=5.1.2->pydeck>=0.1.dev5->streamlit) (7.22.0)\n",
      "Requirement already satisfied: jupyter-client in c:\\users\\rahul\\alien_vs_predator\\alien\\lib\\site-packages (from ipykernel>=5.1.2->pydeck>=0.1.dev5->streamlit) (6.1.12)\n",
      "Requirement already satisfied: jedi>=0.16 in c:\\users\\rahul\\alien_vs_predator\\alien\\lib\\site-packages (from ipython>=5.0.0->ipykernel>=5.1.2->pydeck>=0.1.dev5->streamlit) (0.18.0)\n",
      "Requirement already satisfied: decorator in c:\\users\\rahul\\alien_vs_predator\\alien\\lib\\site-packages (from ipython>=5.0.0->ipykernel>=5.1.2->pydeck>=0.1.dev5->streamlit) (4.4.2)\n",
      "Requirement already satisfied: pygments in c:\\users\\rahul\\alien_vs_predator\\alien\\lib\\site-packages (from ipython>=5.0.0->ipykernel>=5.1.2->pydeck>=0.1.dev5->streamlit) (2.8.1)\n",
      "Requirement already satisfied: prompt-toolkit!=3.0.0,!=3.0.1,<3.1.0,>=2.0.0 in c:\\users\\rahul\\alien_vs_predator\\alien\\lib\\site-packages (from ipython>=5.0.0->ipykernel>=5.1.2->pydeck>=0.1.dev5->streamlit) (3.0.18)\n",
      "Requirement already satisfied: backcall in c:\\users\\rahul\\alien_vs_predator\\alien\\lib\\site-packages (from ipython>=5.0.0->ipykernel>=5.1.2->pydeck>=0.1.dev5->streamlit) (0.2.0)\n",
      "Requirement already satisfied: pickleshare in c:\\users\\rahul\\alien_vs_predator\\alien\\lib\\site-packages (from ipython>=5.0.0->ipykernel>=5.1.2->pydeck>=0.1.dev5->streamlit) (0.7.5)\n",
      "Requirement already satisfied: setuptools>=18.5 in c:\\users\\rahul\\alien_vs_predator\\alien\\lib\\site-packages (from ipython>=5.0.0->ipykernel>=5.1.2->pydeck>=0.1.dev5->streamlit) (51.0.0)\n",
      "Requirement already satisfied: colorama in c:\\users\\rahul\\alien_vs_predator\\alien\\lib\\site-packages (from ipython>=5.0.0->ipykernel>=5.1.2->pydeck>=0.1.dev5->streamlit) (0.4.4)\n",
      "Requirement already satisfied: nbformat>=4.2.0 in c:\\users\\rahul\\alien_vs_predator\\alien\\lib\\site-packages (from ipywidgets>=7.0.0->pydeck>=0.1.dev5->streamlit) (5.1.3)\n",
      "Requirement already satisfied: jupyterlab-widgets>=1.0.0 in c:\\users\\rahul\\alien_vs_predator\\alien\\lib\\site-packages (from ipywidgets>=7.0.0->pydeck>=0.1.dev5->streamlit) (1.0.0)\n",
      "Requirement already satisfied: widgetsnbextension~=3.5.0 in c:\\users\\rahul\\alien_vs_predator\\alien\\lib\\site-packages (from ipywidgets>=7.0.0->pydeck>=0.1.dev5->streamlit) (3.5.1)\n",
      "Requirement already satisfied: parso<0.9.0,>=0.8.0 in c:\\users\\rahul\\alien_vs_predator\\alien\\lib\\site-packages (from jedi>=0.16->ipython>=5.0.0->ipykernel>=5.1.2->pydeck>=0.1.dev5->streamlit) (0.8.2)\n",
      "Requirement already satisfied: MarkupSafe>=0.23 in c:\\users\\rahul\\alien_vs_predator\\alien\\lib\\site-packages (from jinja2->altair>=3.2.0->streamlit) (1.1.1)\n",
      "Requirement already satisfied: jupyter-core in c:\\users\\rahul\\alien_vs_predator\\alien\\lib\\site-packages (from nbformat>=4.2.0->ipywidgets>=7.0.0->pydeck>=0.1.dev5->streamlit) (4.7.1)\n",
      "Requirement already satisfied: ipython-genutils in c:\\users\\rahul\\alien_vs_predator\\alien\\lib\\site-packages (from nbformat>=4.2.0->ipywidgets>=7.0.0->pydeck>=0.1.dev5->streamlit) (0.2.0)\n",
      "Requirement already satisfied: pyrsistent>=0.14.0 in c:\\users\\rahul\\alien_vs_predator\\alien\\lib\\site-packages (from jsonschema->altair>=3.2.0->streamlit) (0.17.3)\n",
      "Requirement already satisfied: attrs>=17.4.0 in c:\\users\\rahul\\alien_vs_predator\\alien\\lib\\site-packages (from jsonschema->altair>=3.2.0->streamlit) (20.3.0)\n",
      "Requirement already satisfied: wcwidth in c:\\users\\rahul\\alien_vs_predator\\alien\\lib\\site-packages (from prompt-toolkit!=3.0.0,!=3.0.1,<3.1.0,>=2.0.0->ipython>=5.0.0->ipykernel>=5.1.2->pydeck>=0.1.dev5->streamlit) (0.2.5)\n",
      "Requirement already satisfied: notebook>=4.4.1 in c:\\users\\rahul\\alien_vs_predator\\alien\\lib\\site-packages (from widgetsnbextension~=3.5.0->ipywidgets>=7.0.0->pydeck>=0.1.dev5->streamlit) (6.3.0)\n",
      "Requirement already satisfied: prometheus-client in c:\\users\\rahul\\alien_vs_predator\\alien\\lib\\site-packages (from notebook>=4.4.1->widgetsnbextension~=3.5.0->ipywidgets>=7.0.0->pydeck>=0.1.dev5->streamlit) (0.10.1)\n",
      "Requirement already satisfied: argon2-cffi in c:\\users\\rahul\\alien_vs_predator\\alien\\lib\\site-packages (from notebook>=4.4.1->widgetsnbextension~=3.5.0->ipywidgets>=7.0.0->pydeck>=0.1.dev5->streamlit) (20.1.0)\n",
      "Requirement already satisfied: pyzmq>=17 in c:\\users\\rahul\\alien_vs_predator\\alien\\lib\\site-packages (from notebook>=4.4.1->widgetsnbextension~=3.5.0->ipywidgets>=7.0.0->pydeck>=0.1.dev5->streamlit) (22.0.3)\n",
      "Requirement already satisfied: Send2Trash>=1.5.0 in c:\\users\\rahul\\alien_vs_predator\\alien\\lib\\site-packages (from notebook>=4.4.1->widgetsnbextension~=3.5.0->ipywidgets>=7.0.0->pydeck>=0.1.dev5->streamlit) (1.5.0)\n",
      "Requirement already satisfied: terminado>=0.8.3 in c:\\users\\rahul\\alien_vs_predator\\alien\\lib\\site-packages (from notebook>=4.4.1->widgetsnbextension~=3.5.0->ipywidgets>=7.0.0->pydeck>=0.1.dev5->streamlit) (0.9.4)\n",
      "Requirement already satisfied: nbconvert in c:\\users\\rahul\\alien_vs_predator\\alien\\lib\\site-packages (from notebook>=4.4.1->widgetsnbextension~=3.5.0->ipywidgets>=7.0.0->pydeck>=0.1.dev5->streamlit) (6.0.7)\n",
      "Requirement already satisfied: pywin32>=1.0 in c:\\users\\rahul\\alien_vs_predator\\alien\\lib\\site-packages (from jupyter-core->nbformat>=4.2.0->ipywidgets>=7.0.0->pydeck>=0.1.dev5->streamlit) (300)\n",
      "Requirement already satisfied: pywinpty>=0.5 in c:\\users\\rahul\\alien_vs_predator\\alien\\lib\\site-packages (from terminado>=0.8.3->notebook>=4.4.1->widgetsnbextension~=3.5.0->ipywidgets>=7.0.0->pydeck>=0.1.dev5->streamlit) (0.5.7)\n",
      "Requirement already satisfied: cffi>=1.0.0 in c:\\users\\rahul\\alien_vs_predator\\alien\\lib\\site-packages (from argon2-cffi->notebook>=4.4.1->widgetsnbextension~=3.5.0->ipywidgets>=7.0.0->pydeck>=0.1.dev5->streamlit) (1.14.5)\n",
      "Requirement already satisfied: pycparser in c:\\users\\rahul\\alien_vs_predator\\alien\\lib\\site-packages (from cffi>=1.0.0->argon2-cffi->notebook>=4.4.1->widgetsnbextension~=3.5.0->ipywidgets>=7.0.0->pydeck>=0.1.dev5->streamlit) (2.20)\n",
      "Requirement already satisfied: s3transfer<0.5.0,>=0.4.0 in c:\\users\\rahul\\alien_vs_predator\\alien\\lib\\site-packages (from boto3->streamlit) (0.4.0)\n",
      "Requirement already satisfied: gitdb<5,>=4.0.1 in c:\\users\\rahul\\alien_vs_predator\\alien\\lib\\site-packages (from gitpython->streamlit) (4.0.7)\n",
      "Requirement already satisfied: smmap<5,>=3.0.1 in c:\\users\\rahul\\alien_vs_predator\\alien\\lib\\site-packages (from gitdb<5,>=4.0.1->gitpython->streamlit) (4.0.0)\n",
      "Requirement already satisfied: bleach in c:\\users\\rahul\\alien_vs_predator\\alien\\lib\\site-packages (from nbconvert->notebook>=4.4.1->widgetsnbextension~=3.5.0->ipywidgets>=7.0.0->pydeck>=0.1.dev5->streamlit) (3.3.0)\n",
      "Requirement already satisfied: nbclient<0.6.0,>=0.5.0 in c:\\users\\rahul\\alien_vs_predator\\alien\\lib\\site-packages (from nbconvert->notebook>=4.4.1->widgetsnbextension~=3.5.0->ipywidgets>=7.0.0->pydeck>=0.1.dev5->streamlit) (0.5.3)\n",
      "Requirement already satisfied: pandocfilters>=1.4.1 in c:\\users\\rahul\\alien_vs_predator\\alien\\lib\\site-packages (from nbconvert->notebook>=4.4.1->widgetsnbextension~=3.5.0->ipywidgets>=7.0.0->pydeck>=0.1.dev5->streamlit) (1.4.3)\n",
      "Requirement already satisfied: defusedxml in c:\\users\\rahul\\alien_vs_predator\\alien\\lib\\site-packages (from nbconvert->notebook>=4.4.1->widgetsnbextension~=3.5.0->ipywidgets>=7.0.0->pydeck>=0.1.dev5->streamlit) (0.7.1)\n",
      "Requirement already satisfied: mistune<2,>=0.8.1 in c:\\users\\rahul\\alien_vs_predator\\alien\\lib\\site-packages (from nbconvert->notebook>=4.4.1->widgetsnbextension~=3.5.0->ipywidgets>=7.0.0->pydeck>=0.1.dev5->streamlit) (0.8.4)\n",
      "Requirement already satisfied: testpath in c:\\users\\rahul\\alien_vs_predator\\alien\\lib\\site-packages (from nbconvert->notebook>=4.4.1->widgetsnbextension~=3.5.0->ipywidgets>=7.0.0->pydeck>=0.1.dev5->streamlit) (0.4.4)\n",
      "Requirement already satisfied: jupyterlab-pygments in c:\\users\\rahul\\alien_vs_predator\\alien\\lib\\site-packages (from nbconvert->notebook>=4.4.1->widgetsnbextension~=3.5.0->ipywidgets>=7.0.0->pydeck>=0.1.dev5->streamlit) (0.1.2)\n",
      "Requirement already satisfied: nest-asyncio in c:\\users\\rahul\\alien_vs_predator\\alien\\lib\\site-packages (from nbclient<0.6.0,>=0.5.0->nbconvert->notebook>=4.4.1->widgetsnbextension~=3.5.0->ipywidgets>=7.0.0->pydeck>=0.1.dev5->streamlit) (1.5.1)\n",
      "Requirement already satisfied: async-generator in c:\\users\\rahul\\alien_vs_predator\\alien\\lib\\site-packages (from nbclient<0.6.0,>=0.5.0->nbconvert->notebook>=4.4.1->widgetsnbextension~=3.5.0->ipywidgets>=7.0.0->pydeck>=0.1.dev5->streamlit) (1.10)\n",
      "Requirement already satisfied: webencodings in c:\\users\\rahul\\alien_vs_predator\\alien\\lib\\site-packages (from bleach->nbconvert->notebook>=4.4.1->widgetsnbextension~=3.5.0->ipywidgets>=7.0.0->pydeck>=0.1.dev5->streamlit) (0.5.1)\n",
      "Requirement already satisfied: pyparsing>=2.0.2 in c:\\users\\rahul\\alien_vs_predator\\alien\\lib\\site-packages (from packaging->streamlit) (2.4.7)\n",
      "Requirement already satisfied: certifi>=2017.4.17 in c:\\users\\rahul\\alien_vs_predator\\alien\\lib\\site-packages (from requests->streamlit) (2020.12.5)\n",
      "Requirement already satisfied: chardet<5,>=3.0.2 in c:\\users\\rahul\\alien_vs_predator\\alien\\lib\\site-packages (from requests->streamlit) (4.0.0)\n",
      "Requirement already satisfied: idna<3,>=2.5 in c:\\users\\rahul\\alien_vs_predator\\alien\\lib\\site-packages (from requests->streamlit) (2.10)\n",
      "time: 1.28 s (started: 2021-04-20 16:58:14 +05:30)\n"
     ]
    }
   ],
   "source": [
    "!pip install streamlit"
   ]
  },
  {
   "cell_type": "code",
   "execution_count": 95,
   "id": "d600c604",
   "metadata": {},
   "outputs": [
    {
     "name": "stdout",
     "output_type": "stream",
     "text": [
      "Requirement already satisfied: pyngrok in c:\\users\\rahul\\alien_vs_predator\\alien\\lib\\site-packages (4.1.1)\n",
      "Requirement already satisfied: future in c:\\users\\rahul\\alien_vs_predator\\alien\\lib\\site-packages (from pyngrok) (0.18.2)\n",
      "Requirement already satisfied: PyYAML in c:\\users\\rahul\\alien_vs_predator\\alien\\lib\\site-packages (from pyngrok) (5.4.1)\n",
      "time: 1.01 s (started: 2021-04-20 16:58:23 +05:30)\n"
     ]
    }
   ],
   "source": [
    "!pip install pyngrok"
   ]
  },
  {
   "cell_type": "code",
   "execution_count": 96,
   "id": "b9682d1b",
   "metadata": {},
   "outputs": [
    {
     "name": "stdout",
     "output_type": "stream",
     "text": [
      "Overwriting app.py\n",
      "time: 0 ns (started: 2021-04-20 16:58:32 +05:30)\n"
     ]
    }
   ],
   "source": [
    "%%writefile app.py\n",
    "import re\n",
    "import sys\n",
    "from streamlit.cli import main\n",
    "import streamlit as st \n",
    "import numpy as np\n",
    "from skimage.io import imread\n",
    "from skimage.transform import resize\n",
    "import matplotlib.pyplot as plt\n",
    "import pickle\n",
    "from PIL import Image\n",
    "from pyngrok import ngrok\n",
    "\n",
    "st.title(\"Image Classifier using Machine Learning\")\n",
    "st.text('Upload the Image')\n",
    "\n",
    "model = pickle.load(open('image_model.p', 'rb'))\n",
    "uploaded_file = st.file_uploader(\"Choose an image...\", type='jpg')\n",
    "if uploaded_file is not None:\n",
    "    img = Image.open(uploaded_file)\n",
    "    st.image(img, caption='Uploaded image')\n",
    "    \n",
    "    if st.button('Predict'):\n",
    "        categories = [\"alien\", \"predator\"]\n",
    "        st.write('Result....')\n",
    "        flat_image = []\n",
    "        image = np.array(img)\n",
    "        image_resized = resize(image, (150, 150, 3))\n",
    "        flat_image.append(image_resized.flatten())\n",
    "        flat_image = np.array(flat_image)\n",
    "        plt.imshow(image_resized)\n",
    "        output = model.predict(flat_image)\n",
    "        output = categories[output[0]]\n",
    "        st.title(f'Predicted output: {output}')\n",
    "        \n",
    "\n",
    "if __name__ == '__main__':\n",
    "    sys.argv[0] = re.sub(r'(-script\\.pyw|\\.exe)?$', '', sys.argv[0])\n",
    "    sys.exit(main())\n",
    "        "
   ]
  },
  {
   "cell_type": "code",
   "execution_count": null,
   "id": "b28ea481",
   "metadata": {},
   "outputs": [],
   "source": [
    "# Now go to command prompt and run \"streamlit run app.py\"."
   ]
  }
 ],
 "metadata": {
  "kernelspec": {
   "display_name": "Python 3",
   "language": "python",
   "name": "python3"
  },
  "language_info": {
   "codemirror_mode": {
    "name": "ipython",
    "version": 3
   },
   "file_extension": ".py",
   "mimetype": "text/x-python",
   "name": "python",
   "nbconvert_exporter": "python",
   "pygments_lexer": "ipython3",
   "version": "3.8.6"
  },
  "latex_envs": {
   "LaTeX_envs_menu_present": true,
   "autoclose": false,
   "autocomplete": true,
   "bibliofile": "biblio.bib",
   "cite_by": "apalike",
   "current_citInitial": 1,
   "eqLabelWithNumbers": true,
   "eqNumInitial": 1,
   "hotkeys": {
    "equation": "Ctrl-E",
    "itemize": "Ctrl-I"
   },
   "labels_anchors": false,
   "latex_user_defs": false,
   "report_style_numbering": false,
   "user_envs_cfg": false
  }
 },
 "nbformat": 4,
 "nbformat_minor": 5
}
